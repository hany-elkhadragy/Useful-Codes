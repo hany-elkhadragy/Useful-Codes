{
 "cells": [
  {
   "cell_type": "markdown",
   "metadata": {},
   "source": [
    "# *mplleaflet converts matplotlib plots into leaflet web maps*\n",
    "\n",
    "For more information and install instructions on mplleaflet go to python.org, python package index and type in mplleaflet."
   ]
  },
  {
   "cell_type": "markdown",
   "metadata": {},
   "source": [
    "# imports"
   ]
  },
  {
   "cell_type": "code",
   "execution_count": 1,
   "metadata": {},
   "outputs": [],
   "source": [
    "import matplotlib.pyplot as plt\n",
    "%matplotlib inline\n",
    "import pandas as pd\n",
    "import mplleaflet\n",
    "import ipywidgets\n",
    "# import geopandas\n",
    "\n",
    "import warnings\n",
    "warnings.filterwarnings('ignore')"
   ]
  },
  {
   "cell_type": "markdown",
   "metadata": {},
   "source": [
    "# plot route"
   ]
  },
  {
   "cell_type": "code",
   "execution_count": 2,
   "metadata": {},
   "outputs": [
    {
     "data": {
      "text/html": [
       "<div>\n",
       "<style scoped>\n",
       "    .dataframe tbody tr th:only-of-type {\n",
       "        vertical-align: middle;\n",
       "    }\n",
       "\n",
       "    .dataframe tbody tr th {\n",
       "        vertical-align: top;\n",
       "    }\n",
       "\n",
       "    .dataframe thead th {\n",
       "        text-align: right;\n",
       "    }\n",
       "</style>\n",
       "<table border=\"1\" class=\"dataframe\">\n",
       "  <thead>\n",
       "    <tr style=\"text-align: right;\">\n",
       "      <th></th>\n",
       "      <th>latitude</th>\n",
       "      <th>longitude</th>\n",
       "      <th>locations</th>\n",
       "    </tr>\n",
       "  </thead>\n",
       "  <tbody>\n",
       "    <tr>\n",
       "      <th>0</th>\n",
       "      <td>34.041008</td>\n",
       "      <td>-118.246653</td>\n",
       "      <td>Los Angeles</td>\n",
       "    </tr>\n",
       "    <tr>\n",
       "      <th>1</th>\n",
       "      <td>36.169726</td>\n",
       "      <td>-115.143996</td>\n",
       "      <td>Las Vegas</td>\n",
       "    </tr>\n",
       "    <tr>\n",
       "      <th>2</th>\n",
       "      <td>39.739448</td>\n",
       "      <td>-104.992450</td>\n",
       "      <td>Denver</td>\n",
       "    </tr>\n",
       "    <tr>\n",
       "      <th>3</th>\n",
       "      <td>41.878765</td>\n",
       "      <td>-87.643267</td>\n",
       "      <td>Chicago</td>\n",
       "    </tr>\n",
       "    <tr>\n",
       "      <th>4</th>\n",
       "      <td>40.782949</td>\n",
       "      <td>-73.969559</td>\n",
       "      <td>Manhattan</td>\n",
       "    </tr>\n",
       "  </tbody>\n",
       "</table>\n",
       "</div>"
      ],
      "text/plain": [
       "    latitude   longitude    locations\n",
       "0  34.041008 -118.246653  Los Angeles\n",
       "1  36.169726 -115.143996    Las Vegas\n",
       "2  39.739448 -104.992450       Denver\n",
       "3  41.878765  -87.643267      Chicago\n",
       "4  40.782949  -73.969559    Manhattan"
      ]
     },
     "execution_count": 2,
     "metadata": {},
     "output_type": "execute_result"
    }
   ],
   "source": [
    "# dataframe\n",
    "line_plot_lats = [34.041008, 36.169726, 39.739448, 41.878765, 40.782949]\n",
    "line_plot_longs = [-118.246653, -115.143996, -104.992450, -87.643267, -73.969559]\n",
    "line_plot_locs = ['Los Angeles', 'Las Vegas', 'Denver', 'Chicago', 'Manhattan']\n",
    "\n",
    "line_plot_df = pd.DataFrame({'latitude': line_plot_lats,\n",
    "                             'longitude': line_plot_longs,\n",
    "                             'locations': line_plot_locs})\n",
    "\n",
    "line_plot_df"
   ]
  },
  {
   "cell_type": "code",
   "execution_count": 3,
   "metadata": {},
   "outputs": [
    {
     "data": {
      "text/html": [
       "<iframe src=\"data:text/html;base64,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\" width=\"100%\" height=\"540\"></iframe>"
      ],
      "text/plain": [
       "<IPython.core.display.HTML object>"
      ]
     },
     "execution_count": 3,
     "metadata": {},
     "output_type": "execute_result"
    }
   ],
   "source": [
    "# plot\n",
    "line_plot_fig, line_plot_ax = plt.subplots(figsize=(12,9))\n",
    "line_plot_ax.plot(line_plot_df.longitude, line_plot_df.latitude, 'orange', linewidth=3)\n",
    "line_plot_ax.plot(line_plot_df.longitude, line_plot_df.latitude, 'ks')\n",
    "\n",
    "# show leaflet map with matplotlib plot(s)\n",
    "mplleaflet.display(fig=line_plot_fig)\n",
    "\n",
    "# show and save html file\n",
    "# mplleaflet.show(fig=line_plot_fig, path='path/map.html')"
   ]
  },
  {
   "cell_type": "markdown",
   "metadata": {},
   "source": [
    "# plot locations"
   ]
  },
  {
   "cell_type": "code",
   "execution_count": 4,
   "metadata": {
    "scrolled": false
   },
   "outputs": [
    {
     "data": {
      "text/html": [
       "<iframe src=\"data:text/html;base64,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\" width=\"100%\" height=\"540\"></iframe>"
      ],
      "text/plain": [
       "<IPython.core.display.HTML object>"
      ]
     },
     "execution_count": 4,
     "metadata": {},
     "output_type": "execute_result"
    }
   ],
   "source": [
    "plot_locs_lats = [34.041008, 36.169726, 39.739448, 41.878765, 40.782949]\n",
    "plot_locs_longs = [-118.246653, -115.143996, -104.992450, -87.643267, -73.969559]\n",
    "\n",
    "# plot\n",
    "plot_locs_fig, plot_locs_ax = plt.subplots(figsize=(12,9))\n",
    "plot_locs_ax.plot(plot_locs_longs[0], plot_locs_lats[0], 'ro', markersize=18)\n",
    "plot_locs_ax.plot(plot_locs_longs[1], plot_locs_lats[1], 'gx', markersize=18)\n",
    "plot_locs_ax.plot(plot_locs_longs[2], plot_locs_lats[2], 'bX', markersize=18)\n",
    "plot_locs_ax.plot(plot_locs_longs[3], plot_locs_lats[3], 'm*', markersize=18)\n",
    "plot_locs_ax.plot(plot_locs_longs[4], plot_locs_lats[4], 'cD', markersize=18)\n",
    "\n",
    "# show leaflet map with matplotlib plot(s)\n",
    "mplleaflet.display(fig=plot_locs_fig)"
   ]
  },
  {
   "cell_type": "markdown",
   "metadata": {},
   "source": [
    "# scatter plot with ipywidgets"
   ]
  },
  {
   "cell_type": "code",
   "execution_count": 5,
   "metadata": {},
   "outputs": [
    {
     "data": {
      "text/html": [
       "<div>\n",
       "<style scoped>\n",
       "    .dataframe tbody tr th:only-of-type {\n",
       "        vertical-align: middle;\n",
       "    }\n",
       "\n",
       "    .dataframe tbody tr th {\n",
       "        vertical-align: top;\n",
       "    }\n",
       "\n",
       "    .dataframe thead th {\n",
       "        text-align: right;\n",
       "    }\n",
       "</style>\n",
       "<table border=\"1\" class=\"dataframe\">\n",
       "  <thead>\n",
       "    <tr style=\"text-align: right;\">\n",
       "      <th></th>\n",
       "      <th>name</th>\n",
       "      <th>city</th>\n",
       "      <th>state</th>\n",
       "      <th>latitude</th>\n",
       "      <th>longitude</th>\n",
       "      <th>annual_boardings</th>\n",
       "      <th>city_population</th>\n",
       "    </tr>\n",
       "  </thead>\n",
       "  <tbody>\n",
       "    <tr>\n",
       "      <th>1</th>\n",
       "      <td>LA</td>\n",
       "      <td>Los Angeles</td>\n",
       "      <td>CA</td>\n",
       "      <td>33.94</td>\n",
       "      <td>-118.40</td>\n",
       "      <td>41232416</td>\n",
       "      <td>3990456</td>\n",
       "    </tr>\n",
       "    <tr>\n",
       "      <th>2</th>\n",
       "      <td>O'Hare</td>\n",
       "      <td>Chicago</td>\n",
       "      <td>IL</td>\n",
       "      <td>41.97</td>\n",
       "      <td>-87.90</td>\n",
       "      <td>38593028</td>\n",
       "      <td>2705994</td>\n",
       "    </tr>\n",
       "    <tr>\n",
       "      <th>3</th>\n",
       "      <td>Dallas-Fort Worth</td>\n",
       "      <td>Dallas-Fort Worth</td>\n",
       "      <td>TX</td>\n",
       "      <td>32.89</td>\n",
       "      <td>-97.03</td>\n",
       "      <td>31861933</td>\n",
       "      <td>1341075</td>\n",
       "    </tr>\n",
       "    <tr>\n",
       "      <th>4</th>\n",
       "      <td>Denver</td>\n",
       "      <td>Denver</td>\n",
       "      <td>CO</td>\n",
       "      <td>39.85</td>\n",
       "      <td>-104.66</td>\n",
       "      <td>29809091</td>\n",
       "      <td>716492</td>\n",
       "    </tr>\n",
       "    <tr>\n",
       "      <th>0</th>\n",
       "      <td>HJ Atlanta</td>\n",
       "      <td>Atlanta</td>\n",
       "      <td>GA</td>\n",
       "      <td>33.64</td>\n",
       "      <td>-84.42</td>\n",
       "      <td>50251962</td>\n",
       "      <td>498044</td>\n",
       "    </tr>\n",
       "  </tbody>\n",
       "</table>\n",
       "</div>"
      ],
      "text/plain": [
       "                name               city state  latitude  longitude  \\\n",
       "1                 LA        Los Angeles    CA     33.94    -118.40   \n",
       "2             O'Hare            Chicago    IL     41.97     -87.90   \n",
       "3  Dallas-Fort Worth  Dallas-Fort Worth    TX     32.89     -97.03   \n",
       "4             Denver             Denver    CO     39.85    -104.66   \n",
       "0         HJ Atlanta            Atlanta    GA     33.64     -84.42   \n",
       "\n",
       "   annual_boardings  city_population  \n",
       "1          41232416          3990456  \n",
       "2          38593028          2705994  \n",
       "3          31861933          1341075  \n",
       "4          29809091           716492  \n",
       "0          50251962           498044  "
      ]
     },
     "execution_count": 5,
     "metadata": {},
     "output_type": "execute_result"
    }
   ],
   "source": [
    "# dataframe\n",
    "airports_df = pd.DataFrame({'name': ['HJ Atlanta', 'LA', 'O\\'Hare', 'Dallas-Fort Worth', 'Denver'],\n",
    "                            'city': ['Atlanta', 'Los Angeles', 'Chicago', 'Dallas-Fort Worth', 'Denver'],\n",
    "                            'state': ['GA', 'CA', 'IL', 'TX', 'CO'],\n",
    "                            'latitude': [33.64, 33.94, 41.97, 32.89, 39.85],\n",
    "                            'longitude': [-84.42, -118.40, -87.90, -97.03, -104.66],\n",
    "                            'annual_boardings': [50251962, 41232416, 38593028, 31861933, 29809091],\n",
    "                            'city_population': [498044, 3990456, 2705994, 1341075, 716492]})\n",
    "\n",
    "airports_df.sort_values(by='city_population', ascending=False)\n",
    "# airports_df.sort_values(by='annual_boardings', ascending=False)"
   ]
  },
  {
   "cell_type": "code",
   "execution_count": 6,
   "metadata": {},
   "outputs": [
    {
     "data": {
      "application/vnd.jupyter.widget-view+json": {
       "model_id": "dac1957737e74650859151683d357978",
       "version_major": 2,
       "version_minor": 0
      },
      "text/plain": [
       "interactive(children=(Dropdown(description='Metric:', options=('annual_boardings', 'city_population'), value='…"
      ]
     },
     "metadata": {},
     "output_type": "display_data"
    }
   ],
   "source": [
    "# widget\n",
    "drop_down = ipywidgets.Dropdown(options=['annual_boardings', 'city_population'],\n",
    "                                value='annual_boardings',\n",
    "                                description='Metric:',\n",
    "                                disabled=False)\n",
    "\n",
    "# function\n",
    "def generate_map(metric):\n",
    "    if metric == 'annual_boardings':\n",
    "        # plot\n",
    "        airports_fig, airports_ax = plt.subplots(figsize=(10,8))\n",
    "        airports_scatter = airports_ax.scatter(x=airports_df['longitude'],\n",
    "                                               y=airports_df['latitude'],\n",
    "                                               # scale down metric\n",
    "                                               s=airports_df['annual_boardings']/10_000)\n",
    "    else:\n",
    "        airports_fig, airports_ax = plt.subplots(figsize=(12,9))\n",
    "        airports_scatter = airports_ax.scatter(x=airports_df['longitude'],\n",
    "                                               y=airports_df['latitude'],\n",
    "                                               # scale down metric\n",
    "                                               s=airports_df['city_population']/1_000)\n",
    "    # show leaflet map with matplotlib plot(s)\n",
    "    display(mplleaflet.display(fig=airports_fig))\n",
    "        \n",
    "# interaction        \n",
    "ipywidgets.interact(generate_map, metric=drop_down);"
   ]
  },
  {
   "cell_type": "markdown",
   "metadata": {},
   "source": [
    "# GeoDataFrame Layer Using GeoPandas"
   ]
  },
  {
   "cell_type": "code",
   "execution_count": null,
   "metadata": {},
   "outputs": [],
   "source": [
    "# dataframe\n",
    "# ny_df = geopandas.read_file(geopandas.datasets.get_path('nybb'))\n",
    "\n",
    "# plot (generate a plot of a GeoDataFrame with matplotlib)\n",
    "# ny_ax = ny_df.plot(column='BoroName', figsize=(10, 10), alpha=1.0, edgecolor='k')"
   ]
  },
  {
   "cell_type": "code",
   "execution_count": 13,
   "metadata": {},
   "outputs": [],
   "source": [
    "# ny_df.plot?"
   ]
  },
  {
   "cell_type": "code",
   "execution_count": 14,
   "metadata": {},
   "outputs": [],
   "source": [
    "# ny_df"
   ]
  },
  {
   "cell_type": "code",
   "execution_count": null,
   "metadata": {},
   "outputs": [],
   "source": [
    "# show leaflet map with matplotlib plot(s)\n",
    "# crs=Coordinate Reference Systems\n",
    "# mplleaflet.display(fig=ny_ax.figure, crs=ny_df.crs)"
   ]
  }
 ],
 "metadata": {
  "kernelspec": {
   "display_name": "Python 3",
   "language": "python",
   "name": "python3"
  },
  "language_info": {
   "codemirror_mode": {
    "name": "ipython",
    "version": 3
   },
   "file_extension": ".py",
   "mimetype": "text/x-python",
   "name": "python",
   "nbconvert_exporter": "python",
   "pygments_lexer": "ipython3",
   "version": "3.7.6"
  },
  "varInspector": {
   "cols": {
    "lenName": 16,
    "lenType": 16,
    "lenVar": 40
   },
   "kernels_config": {
    "python": {
     "delete_cmd_postfix": "",
     "delete_cmd_prefix": "del ",
     "library": "var_list.py",
     "varRefreshCmd": "print(var_dic_list())"
    },
    "r": {
     "delete_cmd_postfix": ") ",
     "delete_cmd_prefix": "rm(",
     "library": "var_list.r",
     "varRefreshCmd": "cat(var_dic_list()) "
    }
   },
   "types_to_exclude": [
    "module",
    "function",
    "builtin_function_or_method",
    "instance",
    "_Feature"
   ],
   "window_display": false
  }
 },
 "nbformat": 4,
 "nbformat_minor": 2
}
